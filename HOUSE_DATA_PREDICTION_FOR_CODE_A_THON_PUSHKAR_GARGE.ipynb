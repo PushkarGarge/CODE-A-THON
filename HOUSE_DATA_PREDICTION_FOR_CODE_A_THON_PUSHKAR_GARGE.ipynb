{
  "nbformat": 4,
  "nbformat_minor": 0,
  "metadata": {
    "colab": {
      "name": "HOUSE DATA PREDICTION FOR CODE-A-THON---PUSHKAR GARGE.ipynb",
      "provenance": [],
      "collapsed_sections": []
    },
    "kernelspec": {
      "name": "python3",
      "display_name": "Python 3"
    }
  },
  "cells": [
    {
      "cell_type": "markdown",
      "metadata": {
        "id": "b0_L8Y9Xk5CE",
        "colab_type": "text"
      },
      "source": [
        "# CODE TO IMPORT CSV FILE "
      ]
    },
    {
      "cell_type": "code",
      "metadata": {
        "id": "TwN5k4hRkoS6",
        "colab_type": "code",
        "colab": {
          "resources": {
            "http://localhost:8080/nbextensions/google.colab/files.js": {
              "data": "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",
              "ok": true,
              "headers": [
                [
                  "content-type",
                  "application/javascript"
                ]
              ],
              "status": 200,
              "status_text": ""
            }
          },
          "base_uri": "https://localhost:8080/",
          "height": 72
        },
        "outputId": "da0f767e-881b-4f72-b2ca-e5e3c901803d"
      },
      "source": [
        "from google.colab import files\n",
        "uploaded = files.upload()"
      ],
      "execution_count": 1,
      "outputs": [
        {
          "output_type": "display_data",
          "data": {
            "text/html": [
              "\n",
              "     <input type=\"file\" id=\"files-fc6cf179-f375-41aa-bee8-3f8f1cbfb166\" name=\"files[]\" multiple disabled\n",
              "        style=\"border:none\" />\n",
              "     <output id=\"result-fc6cf179-f375-41aa-bee8-3f8f1cbfb166\">\n",
              "      Upload widget is only available when the cell has been executed in the\n",
              "      current browser session. Please rerun this cell to enable.\n",
              "      </output>\n",
              "      <script src=\"/nbextensions/google.colab/files.js\"></script> "
            ],
            "text/plain": [
              "<IPython.core.display.HTML object>"
            ]
          },
          "metadata": {
            "tags": []
          }
        },
        {
          "output_type": "stream",
          "text": [
            "Saving house (1).csv to house (1).csv\n"
          ],
          "name": "stdout"
        }
      ]
    },
    {
      "cell_type": "markdown",
      "metadata": {
        "id": "dFiI_c7XoTiJ",
        "colab_type": "text"
      },
      "source": [
        "# Importing Basic libraries :"
      ]
    },
    {
      "cell_type": "code",
      "metadata": {
        "id": "FHSUWTggk872",
        "colab_type": "code",
        "colab": {}
      },
      "source": [
        "import pandas as pd\n",
        "import numpy as np\n",
        "import matplotlib.pyplot as plt\n",
        "import seaborn as sns\n",
        "from sklearn.model_selection import train_test_split\n",
        "import warnings\n",
        "warnings.filterwarnings('ignore')"
      ],
      "execution_count": 65,
      "outputs": []
    },
    {
      "cell_type": "markdown",
      "metadata": {
        "id": "mhcAMUBQoXiy",
        "colab_type": "text"
      },
      "source": [
        "# Storing dataset in df variable :"
      ]
    },
    {
      "cell_type": "code",
      "metadata": {
        "id": "7FDLkmTAlS6v",
        "colab_type": "code",
        "colab": {}
      },
      "source": [
        "df = pd.read_csv(\"house (1).csv\")"
      ],
      "execution_count": 4,
      "outputs": []
    },
    {
      "cell_type": "markdown",
      "metadata": {
        "id": "9sj50kjqocSp",
        "colab_type": "text"
      },
      "source": [
        "# Column names and its meaning in short :"
      ]
    },
    {
      "cell_type": "code",
      "metadata": {
        "id": "FQ9DnCKRr7Op",
        "colab_type": "code",
        "colab": {}
      },
      "source": [
        "#Data Given :\n",
        "#Rooms\tNumber of rooms\n",
        "#Type\tProperty type\n",
        "#Price\tPrice in dollars\n",
        "#Method\tProperty status\n",
        "#SellerG\tReal Estate Agent\n",
        "#Distance\tDistance from CBD\n",
        "#Postcode\tCode of the area\n",
        "#Bathroom\tNumber of Bathrooms\n",
        "#Car\tNumber of carspots\n",
        "#Landsize\tLand Size\n",
        "#BuildingArea\tBuilding Size\n",
        "#YearBuilt\tThe year in which home was built\n",
        "#CouncilArea\tGoverning council for the area\n",
        "#Longtitude\tThe angular distance of a place east or west\n",
        "#Regionname\tGeneral Region (West, North West, North, Northeast …etc)\n",
        "#PropertyCount\tNumber of properties that exist in the suburb"
      ],
      "execution_count": 12,
      "outputs": []
    },
    {
      "cell_type": "markdown",
      "metadata": {
        "id": "qBMA8xXSsLNc",
        "colab_type": "text"
      },
      "source": [
        "# Top Information about dataset :"
      ]
    },
    {
      "cell_type": "code",
      "metadata": {
        "id": "P6eKPr2Dm9Tg",
        "colab_type": "code",
        "colab": {
          "base_uri": "https://localhost:8080/",
          "height": 224
        },
        "outputId": "3f891257-0b2d-4b45-a98d-27dd15caf8ff"
      },
      "source": [
        "df.head()"
      ],
      "execution_count": 5,
      "outputs": [
        {
          "output_type": "execute_result",
          "data": {
            "text/html": [
              "<div>\n",
              "<style scoped>\n",
              "    .dataframe tbody tr th:only-of-type {\n",
              "        vertical-align: middle;\n",
              "    }\n",
              "\n",
              "    .dataframe tbody tr th {\n",
              "        vertical-align: top;\n",
              "    }\n",
              "\n",
              "    .dataframe thead th {\n",
              "        text-align: right;\n",
              "    }\n",
              "</style>\n",
              "<table border=\"1\" class=\"dataframe\">\n",
              "  <thead>\n",
              "    <tr style=\"text-align: right;\">\n",
              "      <th></th>\n",
              "      <th>Rooms</th>\n",
              "      <th>Type</th>\n",
              "      <th>Price</th>\n",
              "      <th>Method</th>\n",
              "      <th>SellerG</th>\n",
              "      <th>Distance</th>\n",
              "      <th>Postcode</th>\n",
              "      <th>Bathroom</th>\n",
              "      <th>Car</th>\n",
              "      <th>Landsize</th>\n",
              "      <th>BuildingArea</th>\n",
              "      <th>YearBuilt</th>\n",
              "      <th>CouncilArea</th>\n",
              "      <th>Longtitude</th>\n",
              "      <th>Regionname</th>\n",
              "      <th>Propertycount</th>\n",
              "    </tr>\n",
              "  </thead>\n",
              "  <tbody>\n",
              "    <tr>\n",
              "      <th>0</th>\n",
              "      <td>2</td>\n",
              "      <td>0</td>\n",
              "      <td>1035000</td>\n",
              "      <td>1</td>\n",
              "      <td>23</td>\n",
              "      <td>2.5</td>\n",
              "      <td>3067</td>\n",
              "      <td>1</td>\n",
              "      <td>0</td>\n",
              "      <td>156</td>\n",
              "      <td>79.0</td>\n",
              "      <td>1900</td>\n",
              "      <td>31</td>\n",
              "      <td>144.9934</td>\n",
              "      <td>2</td>\n",
              "      <td>4019</td>\n",
              "    </tr>\n",
              "    <tr>\n",
              "      <th>1</th>\n",
              "      <td>3</td>\n",
              "      <td>0</td>\n",
              "      <td>1465000</td>\n",
              "      <td>3</td>\n",
              "      <td>23</td>\n",
              "      <td>2.5</td>\n",
              "      <td>3067</td>\n",
              "      <td>2</td>\n",
              "      <td>0</td>\n",
              "      <td>134</td>\n",
              "      <td>150.0</td>\n",
              "      <td>1900</td>\n",
              "      <td>31</td>\n",
              "      <td>144.9944</td>\n",
              "      <td>2</td>\n",
              "      <td>4019</td>\n",
              "    </tr>\n",
              "    <tr>\n",
              "      <th>2</th>\n",
              "      <td>4</td>\n",
              "      <td>0</td>\n",
              "      <td>1600000</td>\n",
              "      <td>4</td>\n",
              "      <td>155</td>\n",
              "      <td>2.5</td>\n",
              "      <td>3067</td>\n",
              "      <td>1</td>\n",
              "      <td>2</td>\n",
              "      <td>120</td>\n",
              "      <td>142.0</td>\n",
              "      <td>2014</td>\n",
              "      <td>31</td>\n",
              "      <td>144.9941</td>\n",
              "      <td>2</td>\n",
              "      <td>4019</td>\n",
              "    </tr>\n",
              "    <tr>\n",
              "      <th>3</th>\n",
              "      <td>3</td>\n",
              "      <td>0</td>\n",
              "      <td>1876000</td>\n",
              "      <td>1</td>\n",
              "      <td>155</td>\n",
              "      <td>2.5</td>\n",
              "      <td>3067</td>\n",
              "      <td>2</td>\n",
              "      <td>0</td>\n",
              "      <td>245</td>\n",
              "      <td>210.0</td>\n",
              "      <td>1910</td>\n",
              "      <td>31</td>\n",
              "      <td>144.9993</td>\n",
              "      <td>2</td>\n",
              "      <td>4019</td>\n",
              "    </tr>\n",
              "    <tr>\n",
              "      <th>4</th>\n",
              "      <td>2</td>\n",
              "      <td>0</td>\n",
              "      <td>1636000</td>\n",
              "      <td>1</td>\n",
              "      <td>155</td>\n",
              "      <td>2.5</td>\n",
              "      <td>3067</td>\n",
              "      <td>1</td>\n",
              "      <td>2</td>\n",
              "      <td>256</td>\n",
              "      <td>107.0</td>\n",
              "      <td>1890</td>\n",
              "      <td>31</td>\n",
              "      <td>144.9954</td>\n",
              "      <td>2</td>\n",
              "      <td>4019</td>\n",
              "    </tr>\n",
              "  </tbody>\n",
              "</table>\n",
              "</div>"
            ],
            "text/plain": [
              "   Rooms  Type    Price  ...  Longtitude  Regionname  Propertycount\n",
              "0      2     0  1035000  ...    144.9934           2           4019\n",
              "1      3     0  1465000  ...    144.9944           2           4019\n",
              "2      4     0  1600000  ...    144.9941           2           4019\n",
              "3      3     0  1876000  ...    144.9993           2           4019\n",
              "4      2     0  1636000  ...    144.9954           2           4019\n",
              "\n",
              "[5 rows x 16 columns]"
            ]
          },
          "metadata": {
            "tags": []
          },
          "execution_count": 5
        }
      ]
    },
    {
      "cell_type": "markdown",
      "metadata": {
        "id": "jRBbGV25og7h",
        "colab_type": "text"
      },
      "source": [
        "# Bottom Information about dataset :"
      ]
    },
    {
      "cell_type": "code",
      "metadata": {
        "id": "xfV6tp3UnGsq",
        "colab_type": "code",
        "colab": {
          "base_uri": "https://localhost:8080/",
          "height": 224
        },
        "outputId": "87b07791-ef8c-4516-9db1-ac6ef9bc205b"
      },
      "source": [
        "df.tail()"
      ],
      "execution_count": 6,
      "outputs": [
        {
          "output_type": "execute_result",
          "data": {
            "text/html": [
              "<div>\n",
              "<style scoped>\n",
              "    .dataframe tbody tr th:only-of-type {\n",
              "        vertical-align: middle;\n",
              "    }\n",
              "\n",
              "    .dataframe tbody tr th {\n",
              "        vertical-align: top;\n",
              "    }\n",
              "\n",
              "    .dataframe thead th {\n",
              "        text-align: right;\n",
              "    }\n",
              "</style>\n",
              "<table border=\"1\" class=\"dataframe\">\n",
              "  <thead>\n",
              "    <tr style=\"text-align: right;\">\n",
              "      <th></th>\n",
              "      <th>Rooms</th>\n",
              "      <th>Type</th>\n",
              "      <th>Price</th>\n",
              "      <th>Method</th>\n",
              "      <th>SellerG</th>\n",
              "      <th>Distance</th>\n",
              "      <th>Postcode</th>\n",
              "      <th>Bathroom</th>\n",
              "      <th>Car</th>\n",
              "      <th>Landsize</th>\n",
              "      <th>BuildingArea</th>\n",
              "      <th>YearBuilt</th>\n",
              "      <th>CouncilArea</th>\n",
              "      <th>Longtitude</th>\n",
              "      <th>Regionname</th>\n",
              "      <th>Propertycount</th>\n",
              "    </tr>\n",
              "  </thead>\n",
              "  <tbody>\n",
              "    <tr>\n",
              "      <th>6825</th>\n",
              "      <td>2</td>\n",
              "      <td>0</td>\n",
              "      <td>650000</td>\n",
              "      <td>0</td>\n",
              "      <td>152</td>\n",
              "      <td>14.5</td>\n",
              "      <td>3087</td>\n",
              "      <td>1</td>\n",
              "      <td>1</td>\n",
              "      <td>210</td>\n",
              "      <td>79.0</td>\n",
              "      <td>2006</td>\n",
              "      <td>-1</td>\n",
              "      <td>145.07878</td>\n",
              "      <td>2</td>\n",
              "      <td>2329</td>\n",
              "    </tr>\n",
              "    <tr>\n",
              "      <th>6826</th>\n",
              "      <td>4</td>\n",
              "      <td>0</td>\n",
              "      <td>635000</td>\n",
              "      <td>1</td>\n",
              "      <td>260</td>\n",
              "      <td>14.7</td>\n",
              "      <td>3030</td>\n",
              "      <td>2</td>\n",
              "      <td>1</td>\n",
              "      <td>662</td>\n",
              "      <td>172.0</td>\n",
              "      <td>1980</td>\n",
              "      <td>-1</td>\n",
              "      <td>144.64789</td>\n",
              "      <td>6</td>\n",
              "      <td>16166</td>\n",
              "    </tr>\n",
              "    <tr>\n",
              "      <th>6827</th>\n",
              "      <td>3</td>\n",
              "      <td>0</td>\n",
              "      <td>1031000</td>\n",
              "      <td>3</td>\n",
              "      <td>251</td>\n",
              "      <td>6.8</td>\n",
              "      <td>3016</td>\n",
              "      <td>2</td>\n",
              "      <td>2</td>\n",
              "      <td>333</td>\n",
              "      <td>133.0</td>\n",
              "      <td>1995</td>\n",
              "      <td>-1</td>\n",
              "      <td>144.87904</td>\n",
              "      <td>6</td>\n",
              "      <td>6380</td>\n",
              "    </tr>\n",
              "    <tr>\n",
              "      <th>6828</th>\n",
              "      <td>4</td>\n",
              "      <td>0</td>\n",
              "      <td>2500000</td>\n",
              "      <td>0</td>\n",
              "      <td>222</td>\n",
              "      <td>6.8</td>\n",
              "      <td>3016</td>\n",
              "      <td>1</td>\n",
              "      <td>5</td>\n",
              "      <td>866</td>\n",
              "      <td>157.0</td>\n",
              "      <td>1920</td>\n",
              "      <td>-1</td>\n",
              "      <td>144.89299</td>\n",
              "      <td>6</td>\n",
              "      <td>6380</td>\n",
              "    </tr>\n",
              "    <tr>\n",
              "      <th>6829</th>\n",
              "      <td>4</td>\n",
              "      <td>0</td>\n",
              "      <td>1285000</td>\n",
              "      <td>3</td>\n",
              "      <td>239</td>\n",
              "      <td>6.3</td>\n",
              "      <td>3013</td>\n",
              "      <td>1</td>\n",
              "      <td>1</td>\n",
              "      <td>362</td>\n",
              "      <td>112.0</td>\n",
              "      <td>1920</td>\n",
              "      <td>-1</td>\n",
              "      <td>144.88449</td>\n",
              "      <td>6</td>\n",
              "      <td>6543</td>\n",
              "    </tr>\n",
              "  </tbody>\n",
              "</table>\n",
              "</div>"
            ],
            "text/plain": [
              "      Rooms  Type    Price  ...  Longtitude  Regionname  Propertycount\n",
              "6825      2     0   650000  ...   145.07878           2           2329\n",
              "6826      4     0   635000  ...   144.64789           6          16166\n",
              "6827      3     0  1031000  ...   144.87904           6           6380\n",
              "6828      4     0  2500000  ...   144.89299           6           6380\n",
              "6829      4     0  1285000  ...   144.88449           6           6543\n",
              "\n",
              "[5 rows x 16 columns]"
            ]
          },
          "metadata": {
            "tags": []
          },
          "execution_count": 6
        }
      ]
    },
    {
      "cell_type": "markdown",
      "metadata": {
        "id": "YfNOCrozrxjs",
        "colab_type": "text"
      },
      "source": [
        "# Information releted to dataset :"
      ]
    },
    {
      "cell_type": "code",
      "metadata": {
        "id": "PxfYlHhxrqcp",
        "colab_type": "code",
        "colab": {
          "base_uri": "https://localhost:8080/",
          "height": 479
        },
        "outputId": "49728f1d-a520-48b7-d1fd-8329be9bb16e"
      },
      "source": [
        "print('Rows :',df.shape[0])\n",
        "print('Columns :',df.shape[1])\n",
        "print('\\nFeatures :\\n :',df.columns.tolist())\n",
        "print('\\nMissing values :',df.isnull().values.sum())\n",
        "print('\\nUnique values : \\n',df.nunique())"
      ],
      "execution_count": 11,
      "outputs": [
        {
          "output_type": "stream",
          "text": [
            "Rows : 6830\n",
            "Columns : 16\n",
            "\n",
            "Features :\n",
            " : ['Rooms', 'Type', 'Price', 'Method', 'SellerG', 'Distance', 'Postcode', 'Bathroom', 'Car', 'Landsize', 'BuildingArea', 'YearBuilt', 'CouncilArea', 'Longtitude', 'Regionname', 'Propertycount']\n",
            "\n",
            "Missing values : 0\n",
            "\n",
            "Unique values : \n",
            " Rooms               8\n",
            "Type                3\n",
            "Price            1647\n",
            "Method              5\n",
            "SellerG           214\n",
            "Distance          197\n",
            "Postcode          190\n",
            "Bathroom            8\n",
            "Car                11\n",
            "Landsize         1161\n",
            "BuildingArea      560\n",
            "YearBuilt         136\n",
            "CouncilArea        32\n",
            "Longtitude       4335\n",
            "Regionname          8\n",
            "Propertycount     297\n",
            "dtype: int64\n"
          ],
          "name": "stdout"
        }
      ]
    },
    {
      "cell_type": "markdown",
      "metadata": {
        "id": "F17gBd5WoFRJ",
        "colab_type": "text"
      },
      "source": [
        "# To check if there are missing values in dataset :"
      ]
    },
    {
      "cell_type": "code",
      "metadata": {
        "id": "ranxgoB1oAer",
        "colab_type": "code",
        "colab": {
          "base_uri": "https://localhost:8080/",
          "height": 306
        },
        "outputId": "f540058b-5d89-4b06-92ff-cd68d1221d4e"
      },
      "source": [
        "df.isnull().sum()"
      ],
      "execution_count": 13,
      "outputs": [
        {
          "output_type": "execute_result",
          "data": {
            "text/plain": [
              "Rooms            0\n",
              "Type             0\n",
              "Price            0\n",
              "Method           0\n",
              "SellerG          0\n",
              "Distance         0\n",
              "Postcode         0\n",
              "Bathroom         0\n",
              "Car              0\n",
              "Landsize         0\n",
              "BuildingArea     0\n",
              "YearBuilt        0\n",
              "CouncilArea      0\n",
              "Longtitude       0\n",
              "Regionname       0\n",
              "Propertycount    0\n",
              "dtype: int64"
            ]
          },
          "metadata": {
            "tags": []
          },
          "execution_count": 13
        }
      ]
    },
    {
      "cell_type": "markdown",
      "metadata": {
        "id": "-zBF_-zfsayU",
        "colab_type": "text"
      },
      "source": [
        "# Detailed information related to dataset i.e.  mean /std /min /max etc :"
      ]
    },
    {
      "cell_type": "code",
      "metadata": {
        "id": "e00SHP3porKp",
        "colab_type": "code",
        "colab": {
          "base_uri": "https://localhost:8080/",
          "height": 317
        },
        "outputId": "34fb3bfc-2b01-4441-b029-cd029ab11025"
      },
      "source": [
        "df.describe()"
      ],
      "execution_count": 14,
      "outputs": [
        {
          "output_type": "execute_result",
          "data": {
            "text/html": [
              "<div>\n",
              "<style scoped>\n",
              "    .dataframe tbody tr th:only-of-type {\n",
              "        vertical-align: middle;\n",
              "    }\n",
              "\n",
              "    .dataframe tbody tr th {\n",
              "        vertical-align: top;\n",
              "    }\n",
              "\n",
              "    .dataframe thead th {\n",
              "        text-align: right;\n",
              "    }\n",
              "</style>\n",
              "<table border=\"1\" class=\"dataframe\">\n",
              "  <thead>\n",
              "    <tr style=\"text-align: right;\">\n",
              "      <th></th>\n",
              "      <th>Rooms</th>\n",
              "      <th>Type</th>\n",
              "      <th>Price</th>\n",
              "      <th>Method</th>\n",
              "      <th>SellerG</th>\n",
              "      <th>Distance</th>\n",
              "      <th>Postcode</th>\n",
              "      <th>Bathroom</th>\n",
              "      <th>Car</th>\n",
              "      <th>Landsize</th>\n",
              "      <th>BuildingArea</th>\n",
              "      <th>YearBuilt</th>\n",
              "      <th>CouncilArea</th>\n",
              "      <th>Longtitude</th>\n",
              "      <th>Regionname</th>\n",
              "      <th>Propertycount</th>\n",
              "    </tr>\n",
              "  </thead>\n",
              "  <tbody>\n",
              "    <tr>\n",
              "      <th>count</th>\n",
              "      <td>6830.000000</td>\n",
              "      <td>6830.000000</td>\n",
              "      <td>6.830000e+03</td>\n",
              "      <td>6830.000000</td>\n",
              "      <td>6830.000000</td>\n",
              "      <td>6830.000000</td>\n",
              "      <td>6830.000000</td>\n",
              "      <td>6830.000000</td>\n",
              "      <td>6830.000000</td>\n",
              "      <td>6830.000000</td>\n",
              "      <td>6830.000000</td>\n",
              "      <td>6830.000000</td>\n",
              "      <td>6830.000000</td>\n",
              "      <td>6830.000000</td>\n",
              "      <td>6830.000000</td>\n",
              "      <td>6830.000000</td>\n",
              "    </tr>\n",
              "    <tr>\n",
              "      <th>mean</th>\n",
              "      <td>2.978184</td>\n",
              "      <td>0.541435</td>\n",
              "      <td>1.077604e+06</td>\n",
              "      <td>1.438360</td>\n",
              "      <td>131.632211</td>\n",
              "      <td>10.148960</td>\n",
              "      <td>3104.262225</td>\n",
              "      <td>1.594143</td>\n",
              "      <td>1.606881</td>\n",
              "      <td>487.495461</td>\n",
              "      <td>143.446606</td>\n",
              "      <td>1964.444070</td>\n",
              "      <td>13.603075</td>\n",
              "      <td>144.991877</td>\n",
              "      <td>3.792679</td>\n",
              "      <td>7433.780527</td>\n",
              "    </tr>\n",
              "    <tr>\n",
              "      <th>std</th>\n",
              "      <td>0.970479</td>\n",
              "      <td>0.834160</td>\n",
              "      <td>6.733202e+05</td>\n",
              "      <td>1.142603</td>\n",
              "      <td>77.124693</td>\n",
              "      <td>5.991423</td>\n",
              "      <td>91.208614</td>\n",
              "      <td>0.714366</td>\n",
              "      <td>0.944613</td>\n",
              "      <td>910.805627</td>\n",
              "      <td>89.970692</td>\n",
              "      <td>37.706332</td>\n",
              "      <td>10.370476</td>\n",
              "      <td>0.104983</td>\n",
              "      <td>2.011551</td>\n",
              "      <td>4352.096045</td>\n",
              "    </tr>\n",
              "    <tr>\n",
              "      <th>min</th>\n",
              "      <td>1.000000</td>\n",
              "      <td>0.000000</td>\n",
              "      <td>1.310000e+05</td>\n",
              "      <td>0.000000</td>\n",
              "      <td>0.000000</td>\n",
              "      <td>0.000000</td>\n",
              "      <td>3000.000000</td>\n",
              "      <td>1.000000</td>\n",
              "      <td>0.000000</td>\n",
              "      <td>0.000000</td>\n",
              "      <td>0.000000</td>\n",
              "      <td>1196.000000</td>\n",
              "      <td>-1.000000</td>\n",
              "      <td>144.542370</td>\n",
              "      <td>0.000000</td>\n",
              "      <td>389.000000</td>\n",
              "    </tr>\n",
              "    <tr>\n",
              "      <th>25%</th>\n",
              "      <td>2.000000</td>\n",
              "      <td>0.000000</td>\n",
              "      <td>6.300000e+05</td>\n",
              "      <td>1.000000</td>\n",
              "      <td>73.000000</td>\n",
              "      <td>6.100000</td>\n",
              "      <td>3044.000000</td>\n",
              "      <td>1.000000</td>\n",
              "      <td>1.000000</td>\n",
              "      <td>167.000000</td>\n",
              "      <td>93.000000</td>\n",
              "      <td>1940.000000</td>\n",
              "      <td>2.000000</td>\n",
              "      <td>144.925522</td>\n",
              "      <td>2.000000</td>\n",
              "      <td>4381.250000</td>\n",
              "    </tr>\n",
              "    <tr>\n",
              "      <th>50%</th>\n",
              "      <td>3.000000</td>\n",
              "      <td>0.000000</td>\n",
              "      <td>8.900000e+05</td>\n",
              "      <td>1.000000</td>\n",
              "      <td>135.000000</td>\n",
              "      <td>9.200000</td>\n",
              "      <td>3083.000000</td>\n",
              "      <td>1.000000</td>\n",
              "      <td>2.000000</td>\n",
              "      <td>404.000000</td>\n",
              "      <td>126.000000</td>\n",
              "      <td>1970.000000</td>\n",
              "      <td>15.000000</td>\n",
              "      <td>144.997000</td>\n",
              "      <td>5.000000</td>\n",
              "      <td>6567.000000</td>\n",
              "    </tr>\n",
              "    <tr>\n",
              "      <th>75%</th>\n",
              "      <td>4.000000</td>\n",
              "      <td>1.000000</td>\n",
              "      <td>1.334000e+06</td>\n",
              "      <td>1.000000</td>\n",
              "      <td>194.000000</td>\n",
              "      <td>13.000000</td>\n",
              "      <td>3147.000000</td>\n",
              "      <td>2.000000</td>\n",
              "      <td>2.000000</td>\n",
              "      <td>641.000000</td>\n",
              "      <td>173.000000</td>\n",
              "      <td>2000.000000</td>\n",
              "      <td>23.000000</td>\n",
              "      <td>145.056100</td>\n",
              "      <td>5.000000</td>\n",
              "      <td>10175.000000</td>\n",
              "    </tr>\n",
              "    <tr>\n",
              "      <th>max</th>\n",
              "      <td>8.000000</td>\n",
              "      <td>2.000000</td>\n",
              "      <td>9.000000e+06</td>\n",
              "      <td>4.000000</td>\n",
              "      <td>267.000000</td>\n",
              "      <td>47.400000</td>\n",
              "      <td>3977.000000</td>\n",
              "      <td>8.000000</td>\n",
              "      <td>10.000000</td>\n",
              "      <td>37000.000000</td>\n",
              "      <td>3112.000000</td>\n",
              "      <td>2018.000000</td>\n",
              "      <td>32.000000</td>\n",
              "      <td>145.526350</td>\n",
              "      <td>7.000000</td>\n",
              "      <td>21650.000000</td>\n",
              "    </tr>\n",
              "  </tbody>\n",
              "</table>\n",
              "</div>"
            ],
            "text/plain": [
              "             Rooms         Type  ...   Regionname  Propertycount\n",
              "count  6830.000000  6830.000000  ...  6830.000000    6830.000000\n",
              "mean      2.978184     0.541435  ...     3.792679    7433.780527\n",
              "std       0.970479     0.834160  ...     2.011551    4352.096045\n",
              "min       1.000000     0.000000  ...     0.000000     389.000000\n",
              "25%       2.000000     0.000000  ...     2.000000    4381.250000\n",
              "50%       3.000000     0.000000  ...     5.000000    6567.000000\n",
              "75%       4.000000     1.000000  ...     5.000000   10175.000000\n",
              "max       8.000000     2.000000  ...     7.000000   21650.000000\n",
              "\n",
              "[8 rows x 16 columns]"
            ]
          },
          "metadata": {
            "tags": []
          },
          "execution_count": 14
        }
      ]
    },
    {
      "cell_type": "markdown",
      "metadata": {
        "id": "oAlF39oosubK",
        "colab_type": "text"
      },
      "source": [
        "# To check the object of the dataset :"
      ]
    },
    {
      "cell_type": "code",
      "metadata": {
        "id": "lYfCXQfUsZTg",
        "colab_type": "code",
        "colab": {
          "base_uri": "https://localhost:8080/",
          "height": 408
        },
        "outputId": "eeef8bfd-d7e5-47ae-fc0c-10cba4af6c27"
      },
      "source": [
        "df.info()"
      ],
      "execution_count": 15,
      "outputs": [
        {
          "output_type": "stream",
          "text": [
            "<class 'pandas.core.frame.DataFrame'>\n",
            "RangeIndex: 6830 entries, 0 to 6829\n",
            "Data columns (total 16 columns):\n",
            " #   Column         Non-Null Count  Dtype  \n",
            "---  ------         --------------  -----  \n",
            " 0   Rooms          6830 non-null   int64  \n",
            " 1   Type           6830 non-null   int64  \n",
            " 2   Price          6830 non-null   int64  \n",
            " 3   Method         6830 non-null   int64  \n",
            " 4   SellerG        6830 non-null   int64  \n",
            " 5   Distance       6830 non-null   float64\n",
            " 6   Postcode       6830 non-null   int64  \n",
            " 7   Bathroom       6830 non-null   int64  \n",
            " 8   Car            6830 non-null   int64  \n",
            " 9   Landsize       6830 non-null   int64  \n",
            " 10  BuildingArea   6830 non-null   float64\n",
            " 11  YearBuilt      6830 non-null   int64  \n",
            " 12  CouncilArea    6830 non-null   int64  \n",
            " 13  Longtitude     6830 non-null   float64\n",
            " 14  Regionname     6830 non-null   int64  \n",
            " 15  Propertycount  6830 non-null   int64  \n",
            "dtypes: float64(3), int64(13)\n",
            "memory usage: 853.9 KB\n"
          ],
          "name": "stdout"
        }
      ]
    },
    {
      "cell_type": "markdown",
      "metadata": {
        "id": "H1jo1fRutFqU",
        "colab_type": "text"
      },
      "source": [
        "# To check the Correlation of dataset with all columns to price :"
      ]
    },
    {
      "cell_type": "code",
      "metadata": {
        "id": "WXj5aNh6s-In",
        "colab_type": "code",
        "colab": {}
      },
      "source": [
        "corr = df.corr()"
      ],
      "execution_count": 16,
      "outputs": []
    },
    {
      "cell_type": "code",
      "metadata": {
        "id": "CtVglRtTtPVJ",
        "colab_type": "code",
        "colab": {
          "base_uri": "https://localhost:8080/",
          "height": 565
        },
        "outputId": "6123f8a0-88c1-49b9-bbc3-bc09d19d5546"
      },
      "source": [
        "corr"
      ],
      "execution_count": 17,
      "outputs": [
        {
          "output_type": "execute_result",
          "data": {
            "text/html": [
              "<div>\n",
              "<style scoped>\n",
              "    .dataframe tbody tr th:only-of-type {\n",
              "        vertical-align: middle;\n",
              "    }\n",
              "\n",
              "    .dataframe tbody tr th {\n",
              "        vertical-align: top;\n",
              "    }\n",
              "\n",
              "    .dataframe thead th {\n",
              "        text-align: right;\n",
              "    }\n",
              "</style>\n",
              "<table border=\"1\" class=\"dataframe\">\n",
              "  <thead>\n",
              "    <tr style=\"text-align: right;\">\n",
              "      <th></th>\n",
              "      <th>Rooms</th>\n",
              "      <th>Type</th>\n",
              "      <th>Price</th>\n",
              "      <th>Method</th>\n",
              "      <th>SellerG</th>\n",
              "      <th>Distance</th>\n",
              "      <th>Postcode</th>\n",
              "      <th>Bathroom</th>\n",
              "      <th>Car</th>\n",
              "      <th>Landsize</th>\n",
              "      <th>BuildingArea</th>\n",
              "      <th>YearBuilt</th>\n",
              "      <th>CouncilArea</th>\n",
              "      <th>Longtitude</th>\n",
              "      <th>Regionname</th>\n",
              "      <th>Propertycount</th>\n",
              "    </tr>\n",
              "  </thead>\n",
              "  <tbody>\n",
              "    <tr>\n",
              "      <th>Rooms</th>\n",
              "      <td>1.000000</td>\n",
              "      <td>-0.579983</td>\n",
              "      <td>0.517718</td>\n",
              "      <td>-0.048423</td>\n",
              "      <td>-0.017318</td>\n",
              "      <td>0.289763</td>\n",
              "      <td>0.068674</td>\n",
              "      <td>0.613285</td>\n",
              "      <td>0.420493</td>\n",
              "      <td>0.099031</td>\n",
              "      <td>0.603150</td>\n",
              "      <td>-0.049272</td>\n",
              "      <td>-0.205097</td>\n",
              "      <td>0.096665</td>\n",
              "      <td>-0.005093</td>\n",
              "      <td>-0.100447</td>\n",
              "    </tr>\n",
              "    <tr>\n",
              "      <th>Type</th>\n",
              "      <td>-0.579983</td>\n",
              "      <td>1.000000</td>\n",
              "      <td>-0.419183</td>\n",
              "      <td>0.088179</td>\n",
              "      <td>0.021241</td>\n",
              "      <td>-0.240904</td>\n",
              "      <td>0.008063</td>\n",
              "      <td>-0.273788</td>\n",
              "      <td>-0.281780</td>\n",
              "      <td>-0.045246</td>\n",
              "      <td>-0.388990</td>\n",
              "      <td>0.320428</td>\n",
              "      <td>0.152362</td>\n",
              "      <td>0.002320</td>\n",
              "      <td>0.053642</td>\n",
              "      <td>0.098420</td>\n",
              "    </tr>\n",
              "    <tr>\n",
              "      <th>Price</th>\n",
              "      <td>0.517718</td>\n",
              "      <td>-0.419183</td>\n",
              "      <td>1.000000</td>\n",
              "      <td>-0.041462</td>\n",
              "      <td>-0.058529</td>\n",
              "      <td>-0.164975</td>\n",
              "      <td>0.109343</td>\n",
              "      <td>0.492481</td>\n",
              "      <td>0.250916</td>\n",
              "      <td>0.073536</td>\n",
              "      <td>0.520492</td>\n",
              "      <td>-0.307343</td>\n",
              "      <td>-0.125901</td>\n",
              "      <td>0.209786</td>\n",
              "      <td>0.090802</td>\n",
              "      <td>-0.053336</td>\n",
              "    </tr>\n",
              "    <tr>\n",
              "      <th>Method</th>\n",
              "      <td>-0.048423</td>\n",
              "      <td>0.088179</td>\n",
              "      <td>-0.041462</td>\n",
              "      <td>1.000000</td>\n",
              "      <td>-0.008489</td>\n",
              "      <td>-0.058832</td>\n",
              "      <td>-0.031344</td>\n",
              "      <td>-0.006614</td>\n",
              "      <td>-0.014382</td>\n",
              "      <td>-0.015780</td>\n",
              "      <td>-0.040639</td>\n",
              "      <td>0.024371</td>\n",
              "      <td>0.022126</td>\n",
              "      <td>-0.048818</td>\n",
              "      <td>0.025594</td>\n",
              "      <td>-0.020742</td>\n",
              "    </tr>\n",
              "    <tr>\n",
              "      <th>SellerG</th>\n",
              "      <td>-0.017318</td>\n",
              "      <td>0.021241</td>\n",
              "      <td>-0.058529</td>\n",
              "      <td>-0.008489</td>\n",
              "      <td>1.000000</td>\n",
              "      <td>0.026803</td>\n",
              "      <td>-0.002534</td>\n",
              "      <td>-0.029692</td>\n",
              "      <td>0.006835</td>\n",
              "      <td>-0.009812</td>\n",
              "      <td>-0.032581</td>\n",
              "      <td>0.010859</td>\n",
              "      <td>-0.000537</td>\n",
              "      <td>-0.057695</td>\n",
              "      <td>0.013905</td>\n",
              "      <td>0.061711</td>\n",
              "    </tr>\n",
              "    <tr>\n",
              "      <th>Distance</th>\n",
              "      <td>0.289763</td>\n",
              "      <td>-0.240904</td>\n",
              "      <td>-0.164975</td>\n",
              "      <td>-0.058832</td>\n",
              "      <td>0.026803</td>\n",
              "      <td>1.000000</td>\n",
              "      <td>0.438274</td>\n",
              "      <td>0.124044</td>\n",
              "      <td>0.265142</td>\n",
              "      <td>0.082449</td>\n",
              "      <td>0.155148</td>\n",
              "      <td>0.258462</td>\n",
              "      <td>-0.277766</td>\n",
              "      <td>0.215594</td>\n",
              "      <td>-0.094625</td>\n",
              "      <td>-0.061433</td>\n",
              "    </tr>\n",
              "    <tr>\n",
              "      <th>Postcode</th>\n",
              "      <td>0.068674</td>\n",
              "      <td>0.008063</td>\n",
              "      <td>0.109343</td>\n",
              "      <td>-0.031344</td>\n",
              "      <td>-0.002534</td>\n",
              "      <td>0.438274</td>\n",
              "      <td>1.000000</td>\n",
              "      <td>0.112776</td>\n",
              "      <td>0.049226</td>\n",
              "      <td>0.039998</td>\n",
              "      <td>0.081791</td>\n",
              "      <td>0.036819</td>\n",
              "      <td>-0.070475</td>\n",
              "      <td>0.430579</td>\n",
              "      <td>-0.013522</td>\n",
              "      <td>0.058542</td>\n",
              "    </tr>\n",
              "    <tr>\n",
              "      <th>Bathroom</th>\n",
              "      <td>0.613285</td>\n",
              "      <td>-0.273788</td>\n",
              "      <td>0.492481</td>\n",
              "      <td>-0.006614</td>\n",
              "      <td>-0.029692</td>\n",
              "      <td>0.124044</td>\n",
              "      <td>0.112776</td>\n",
              "      <td>1.000000</td>\n",
              "      <td>0.335331</td>\n",
              "      <td>0.081680</td>\n",
              "      <td>0.539717</td>\n",
              "      <td>0.166412</td>\n",
              "      <td>-0.114353</td>\n",
              "      <td>0.119573</td>\n",
              "      <td>0.036411</td>\n",
              "      <td>-0.062127</td>\n",
              "    </tr>\n",
              "    <tr>\n",
              "      <th>Car</th>\n",
              "      <td>0.420493</td>\n",
              "      <td>-0.281780</td>\n",
              "      <td>0.250916</td>\n",
              "      <td>-0.014382</td>\n",
              "      <td>0.006835</td>\n",
              "      <td>0.265142</td>\n",
              "      <td>0.049226</td>\n",
              "      <td>0.335331</td>\n",
              "      <td>1.000000</td>\n",
              "      <td>0.113427</td>\n",
              "      <td>0.331702</td>\n",
              "      <td>0.114340</td>\n",
              "      <td>-0.175219</td>\n",
              "      <td>0.061410</td>\n",
              "      <td>0.005498</td>\n",
              "      <td>-0.033258</td>\n",
              "    </tr>\n",
              "    <tr>\n",
              "      <th>Landsize</th>\n",
              "      <td>0.099031</td>\n",
              "      <td>-0.045246</td>\n",
              "      <td>0.073536</td>\n",
              "      <td>-0.015780</td>\n",
              "      <td>-0.009812</td>\n",
              "      <td>0.082449</td>\n",
              "      <td>0.039998</td>\n",
              "      <td>0.081680</td>\n",
              "      <td>0.113427</td>\n",
              "      <td>1.000000</td>\n",
              "      <td>0.082815</td>\n",
              "      <td>0.031474</td>\n",
              "      <td>-0.049916</td>\n",
              "      <td>0.026882</td>\n",
              "      <td>-0.009509</td>\n",
              "      <td>-0.014909</td>\n",
              "    </tr>\n",
              "    <tr>\n",
              "      <th>BuildingArea</th>\n",
              "      <td>0.603150</td>\n",
              "      <td>-0.388990</td>\n",
              "      <td>0.520492</td>\n",
              "      <td>-0.040639</td>\n",
              "      <td>-0.032581</td>\n",
              "      <td>0.155148</td>\n",
              "      <td>0.081791</td>\n",
              "      <td>0.539717</td>\n",
              "      <td>0.331702</td>\n",
              "      <td>0.082815</td>\n",
              "      <td>1.000000</td>\n",
              "      <td>0.017940</td>\n",
              "      <td>-0.167994</td>\n",
              "      <td>0.107153</td>\n",
              "      <td>0.031412</td>\n",
              "      <td>-0.063315</td>\n",
              "    </tr>\n",
              "    <tr>\n",
              "      <th>YearBuilt</th>\n",
              "      <td>-0.049272</td>\n",
              "      <td>0.320428</td>\n",
              "      <td>-0.307343</td>\n",
              "      <td>0.024371</td>\n",
              "      <td>0.010859</td>\n",
              "      <td>0.258462</td>\n",
              "      <td>0.036819</td>\n",
              "      <td>0.166412</td>\n",
              "      <td>0.114340</td>\n",
              "      <td>0.031474</td>\n",
              "      <td>0.017940</td>\n",
              "      <td>1.000000</td>\n",
              "      <td>-0.061409</td>\n",
              "      <td>-0.005064</td>\n",
              "      <td>-0.026114</td>\n",
              "      <td>0.005116</td>\n",
              "    </tr>\n",
              "    <tr>\n",
              "      <th>CouncilArea</th>\n",
              "      <td>-0.205097</td>\n",
              "      <td>0.152362</td>\n",
              "      <td>-0.125901</td>\n",
              "      <td>0.022126</td>\n",
              "      <td>-0.000537</td>\n",
              "      <td>-0.277766</td>\n",
              "      <td>-0.070475</td>\n",
              "      <td>-0.114353</td>\n",
              "      <td>-0.175219</td>\n",
              "      <td>-0.049916</td>\n",
              "      <td>-0.167994</td>\n",
              "      <td>-0.061409</td>\n",
              "      <td>1.000000</td>\n",
              "      <td>-0.155591</td>\n",
              "      <td>-0.056340</td>\n",
              "      <td>0.015782</td>\n",
              "    </tr>\n",
              "    <tr>\n",
              "      <th>Longtitude</th>\n",
              "      <td>0.096665</td>\n",
              "      <td>0.002320</td>\n",
              "      <td>0.209786</td>\n",
              "      <td>-0.048818</td>\n",
              "      <td>-0.057695</td>\n",
              "      <td>0.215594</td>\n",
              "      <td>0.430579</td>\n",
              "      <td>0.119573</td>\n",
              "      <td>0.061410</td>\n",
              "      <td>0.026882</td>\n",
              "      <td>0.107153</td>\n",
              "      <td>-0.005064</td>\n",
              "      <td>-0.155591</td>\n",
              "      <td>1.000000</td>\n",
              "      <td>-0.469294</td>\n",
              "      <td>0.052395</td>\n",
              "    </tr>\n",
              "    <tr>\n",
              "      <th>Regionname</th>\n",
              "      <td>-0.005093</td>\n",
              "      <td>0.053642</td>\n",
              "      <td>0.090802</td>\n",
              "      <td>0.025594</td>\n",
              "      <td>0.013905</td>\n",
              "      <td>-0.094625</td>\n",
              "      <td>-0.013522</td>\n",
              "      <td>0.036411</td>\n",
              "      <td>0.005498</td>\n",
              "      <td>-0.009509</td>\n",
              "      <td>0.031412</td>\n",
              "      <td>-0.026114</td>\n",
              "      <td>-0.056340</td>\n",
              "      <td>-0.469294</td>\n",
              "      <td>1.000000</td>\n",
              "      <td>-0.149624</td>\n",
              "    </tr>\n",
              "    <tr>\n",
              "      <th>Propertycount</th>\n",
              "      <td>-0.100447</td>\n",
              "      <td>0.098420</td>\n",
              "      <td>-0.053336</td>\n",
              "      <td>-0.020742</td>\n",
              "      <td>0.061711</td>\n",
              "      <td>-0.061433</td>\n",
              "      <td>0.058542</td>\n",
              "      <td>-0.062127</td>\n",
              "      <td>-0.033258</td>\n",
              "      <td>-0.014909</td>\n",
              "      <td>-0.063315</td>\n",
              "      <td>0.005116</td>\n",
              "      <td>0.015782</td>\n",
              "      <td>0.052395</td>\n",
              "      <td>-0.149624</td>\n",
              "      <td>1.000000</td>\n",
              "    </tr>\n",
              "  </tbody>\n",
              "</table>\n",
              "</div>"
            ],
            "text/plain": [
              "                  Rooms      Type  ...  Regionname  Propertycount\n",
              "Rooms          1.000000 -0.579983  ...   -0.005093      -0.100447\n",
              "Type          -0.579983  1.000000  ...    0.053642       0.098420\n",
              "Price          0.517718 -0.419183  ...    0.090802      -0.053336\n",
              "Method        -0.048423  0.088179  ...    0.025594      -0.020742\n",
              "SellerG       -0.017318  0.021241  ...    0.013905       0.061711\n",
              "Distance       0.289763 -0.240904  ...   -0.094625      -0.061433\n",
              "Postcode       0.068674  0.008063  ...   -0.013522       0.058542\n",
              "Bathroom       0.613285 -0.273788  ...    0.036411      -0.062127\n",
              "Car            0.420493 -0.281780  ...    0.005498      -0.033258\n",
              "Landsize       0.099031 -0.045246  ...   -0.009509      -0.014909\n",
              "BuildingArea   0.603150 -0.388990  ...    0.031412      -0.063315\n",
              "YearBuilt     -0.049272  0.320428  ...   -0.026114       0.005116\n",
              "CouncilArea   -0.205097  0.152362  ...   -0.056340       0.015782\n",
              "Longtitude     0.096665  0.002320  ...   -0.469294       0.052395\n",
              "Regionname    -0.005093  0.053642  ...    1.000000      -0.149624\n",
              "Propertycount -0.100447  0.098420  ...   -0.149624       1.000000\n",
              "\n",
              "[16 rows x 16 columns]"
            ]
          },
          "metadata": {
            "tags": []
          },
          "execution_count": 17
        }
      ]
    },
    {
      "cell_type": "markdown",
      "metadata": {
        "id": "hvnHSSAFt2TS",
        "colab_type": "text"
      },
      "source": [
        "# Correlation using Heatmap :"
      ]
    },
    {
      "cell_type": "code",
      "metadata": {
        "id": "GSU3DeFXvX_-",
        "colab_type": "code",
        "colab": {
          "base_uri": "https://localhost:8080/",
          "height": 656
        },
        "outputId": "3ad5e542-c767-40e8-c150-0ea83a5303f2"
      },
      "source": [
        "plt.figure(figsize=(20,10))\n",
        "sns.heatmap(corr,annot=True,cmap=\"coolwarm\")\n",
        "plt.show()"
      ],
      "execution_count": 77,
      "outputs": [
        {
          "output_type": "display_data",
          "data": {
            "image/png": "[encoded data removed]",
            "text/plain": [
              "<Figure size 1440x720 with 2 Axes>"
            ]
          },
          "metadata": {
            "tags": []
          }
        }
      ]
    },
    {
      "cell_type": "code",
      "metadata": {
        "id": "DWCLuE7KvfjR",
        "colab_type": "code",
        "colab": {
          "base_uri": "https://localhost:8080/",
          "height": 525
        },
        "outputId": "85e95b8b-4baa-4bf7-d1a4-148bd0912753"
      },
      "source": [
        "plt.figure(figsize=(10,8))\n",
        "sns.stripplot(x=df['Type'],y=df['Price'],palette='hls')"
      ],
      "execution_count": 28,
      "outputs": [
        {
          "output_type": "execute_result",
          "data": {
            "text/plain": [
              "<matplotlib.axes._subplots.AxesSubplot at 0x7fbb4d300c50>"
            ]
          },
          "metadata": {
            "tags": []
          },
          "execution_count": 28
        },
        {
          "output_type": "display_data",
          "data": {
            "image/png": "[encoded data removed]",
            "text/plain": [
              "<Figure size 720x576 with 1 Axes>"
            ]
          },
          "metadata": {
            "tags": [],
            "needs_background": "light"
          }
        }
      ]
    },
    {
      "cell_type": "code",
      "metadata": {
        "id": "WPBkH6iewHA6",
        "colab_type": "code",
        "colab": {
          "base_uri": "https://localhost:8080/",
          "height": 677
        },
        "outputId": "151d5f07-70bd-437a-f296-12591984bc39"
      },
      "source": [
        "fig, axarr = plt.subplots(2, 2, figsize=(14,10))\n",
        "fig.suptitle('Property features',fontsize=15)\n",
        "sns.countplot(df['Rooms'],ax=axarr[0][0],palette='cubehelix').set_title('No. of Rooms')\n",
        "sns.countplot(df['Type'],ax=axarr[1][0],palette='cubehelix').set_title('Room Type')\n",
        "sns.countplot(df['Bathroom'],ax=axarr[1][1],palette='husl').set_title('No. of Bathrooms')\n",
        "sns.countplot(df['Car'],ax=axarr[0][1],palette='husl').set_title('No.of Cars')\n",
        "plt.subplots_adjust(hspace=.4)\n",
        "sns.set_style('darkgrid')\n",
        "sns.despine()"
      ],
      "execution_count": 31,
      "outputs": [
        {
          "output_type": "display_data",
          "data": {
            "image/png": "[encoded data removed]",
            "text/plain": [
              "<Figure size 1008x720 with 4 Axes>"
            ]
          },
          "metadata": {
            "tags": []
          }
        }
      ]
    },
    {
      "cell_type": "markdown",
      "metadata": {
        "id": "DNeYsdz20lbU",
        "colab_type": "text"
      },
      "source": [
        "# Linear Regression :"
      ]
    },
    {
      "cell_type": "code",
      "metadata": {
        "id": "VGryLVVUzw0Z",
        "colab_type": "code",
        "colab": {}
      },
      "source": [
        "from sklearn.model_selection import train_test_split\n",
        "from sklearn.linear_model import LinearRegression"
      ],
      "execution_count": 33,
      "outputs": []
    },
    {
      "cell_type": "code",
      "metadata": {
        "id": "wU-okR8K0Bf8",
        "colab_type": "code",
        "colab": {}
      },
      "source": [
        "X = df.drop(\"Price\",axis=1)\n",
        "y = df[\"Price\"]"
      ],
      "execution_count": 35,
      "outputs": []
    },
    {
      "cell_type": "code",
      "metadata": {
        "id": "H0zUoawT0EfN",
        "colab_type": "code",
        "colab": {}
      },
      "source": [
        "X_train,X_test,y_train,y_test = train_test_split(X,y,test_size=0.3,random_state=1)"
      ],
      "execution_count": 36,
      "outputs": []
    },
    {
      "cell_type": "code",
      "metadata": {
        "id": "ygp659Yp0Kfq",
        "colab_type": "code",
        "colab": {
          "base_uri": "https://localhost:8080/",
          "height": 34
        },
        "outputId": "15dda0ba-4ac9-4918-f2d5-ec7a282b5ea0"
      },
      "source": [
        "lr = LinearRegression()\n",
        "lr.fit(X_train,y_train)"
      ],
      "execution_count": 37,
      "outputs": [
        {
          "output_type": "execute_result",
          "data": {
            "text/plain": [
              "LinearRegression(copy_X=True, fit_intercept=True, n_jobs=None, normalize=False)"
            ]
          },
          "metadata": {
            "tags": []
          },
          "execution_count": 37
        }
      ]
    },
    {
      "cell_type": "markdown",
      "metadata": {
        "id": "Vy3or4Lx0qB9",
        "colab_type": "text"
      },
      "source": [
        "# Train score :"
      ]
    },
    {
      "cell_type": "code",
      "metadata": {
        "id": "rlc7OoK60NR_",
        "colab_type": "code",
        "colab": {
          "base_uri": "https://localhost:8080/",
          "height": 34
        },
        "outputId": "5de2f327-422d-461f-d2ed-000ee4df8057"
      },
      "source": [
        "\n",
        "lr.score(X_train,y_train)"
      ],
      "execution_count": 38,
      "outputs": [
        {
          "output_type": "execute_result",
          "data": {
            "text/plain": [
              "0.6376650445007466"
            ]
          },
          "metadata": {
            "tags": []
          },
          "execution_count": 38
        }
      ]
    },
    {
      "cell_type": "markdown",
      "metadata": {
        "id": "t1wSPCVJ0so0",
        "colab_type": "text"
      },
      "source": [
        "#Test score :"
      ]
    },
    {
      "cell_type": "code",
      "metadata": {
        "id": "UrxR43AV0Uyz",
        "colab_type": "code",
        "colab": {
          "base_uri": "https://localhost:8080/",
          "height": 34
        },
        "outputId": "56ec4f57-40ab-48bc-fb49-b0ca7cae35aa"
      },
      "source": [
        "\n",
        "lr.score(X_test,y_test)"
      ],
      "execution_count": 41,
      "outputs": [
        {
          "output_type": "execute_result",
          "data": {
            "text/plain": [
              "0.5775984742888238"
            ]
          },
          "metadata": {
            "tags": []
          },
          "execution_count": 41
        }
      ]
    },
    {
      "cell_type": "code",
      "metadata": {
        "id": "SnmSKL3G0ZBt",
        "colab_type": "code",
        "colab": {
          "base_uri": "https://localhost:8080/",
          "height": 85
        },
        "outputId": "77301c2d-94e5-41a6-cf12-8c188a235f20"
      },
      "source": [
        "lr.coef_"
      ],
      "execution_count": 51,
      "outputs": [
        {
          "output_type": "execute_result",
          "data": {
            "text/plain": [
              "array([ 1.18003726e+05, -1.68990114e+05, -7.26096664e+02, -1.24949413e+01,\n",
              "       -4.63229765e+04,  1.06835688e+03,  2.02809523e+05,  5.19366172e+04,\n",
              "        1.84105442e+01,  1.47156228e+03, -2.83199382e+03, -3.71622245e+03,\n",
              "        1.47397536e+06,  4.83943558e+04, -1.28615933e+00])"
            ]
          },
          "metadata": {
            "tags": []
          },
          "execution_count": 51
        }
      ]
    },
    {
      "cell_type": "code",
      "metadata": {
        "id": "14oTnw4K-lT1",
        "colab_type": "code",
        "colab": {}
      },
      "source": [
        "y_pred = lr.predict(X_test)"
      ],
      "execution_count": 121,
      "outputs": []
    },
    {
      "cell_type": "code",
      "metadata": {
        "id": "anyaxGuu-ol4",
        "colab_type": "code",
        "colab": {
          "base_uri": "https://localhost:8080/",
          "height": 34
        },
        "outputId": "339ed74c-6c9f-4b42-f652-2376f7ad9556"
      },
      "source": [
        "mean_squared_error(y_test,y_pred)"
      ],
      "execution_count": 122,
      "outputs": [
        {
          "output_type": "execute_result",
          "data": {
            "text/plain": [
              "329348377536.6401"
            ]
          },
          "metadata": {
            "tags": []
          },
          "execution_count": 122
        }
      ]
    },
    {
      "cell_type": "code",
      "metadata": {
        "id": "jOko_4bD-rWk",
        "colab_type": "code",
        "colab": {
          "base_uri": "https://localhost:8080/",
          "height": 34
        },
        "outputId": "9af9514a-4b27-4094-b932-2e500fe2daae"
      },
      "source": [
        "r2_score(y_test,y_pred)"
      ],
      "execution_count": 123,
      "outputs": [
        {
          "output_type": "execute_result",
          "data": {
            "text/plain": [
              "0.3669791756269811"
            ]
          },
          "metadata": {
            "tags": []
          },
          "execution_count": 123
        }
      ]
    },
    {
      "cell_type": "code",
      "metadata": {
        "id": "znlbuq1k-O-z",
        "colab_type": "code",
        "colab": {
          "base_uri": "https://localhost:8080/",
          "height": 289
        },
        "outputId": "cf690746-71a0-4da5-dc6e-b0dec23cfd38"
      },
      "source": [
        "plt.figure()\n",
        "sns.scatterplot(y_pred,residuals)\n",
        "plt.show()"
      ],
      "execution_count": 119,
      "outputs": [
        {
          "output_type": "display_data",
          "data": {
            "image/png": "[encoded data removed]",
            "text/plain": [
              "<Figure size 432x288 with 1 Axes>"
            ]
          },
          "metadata": {
            "tags": []
          }
        }
      ]
    },
    {
      "cell_type": "code",
      "metadata": {
        "id": "2be6VWfl-Xdq",
        "colab_type": "code",
        "colab": {
          "base_uri": "https://localhost:8080/",
          "height": 290
        },
        "outputId": "a79d49c1-8cb7-4dad-e90e-ff7f2b4636c7"
      },
      "source": [
        "plt.figure()\n",
        "sns.distplot(residuals)\n",
        "plt.show()"
      ],
      "execution_count": 120,
      "outputs": [
        {
          "output_type": "display_data",
          "data": {
            "image/png": "[encoded data removed]",
            "text/plain": [
              "<Figure size 432x288 with 1 Axes>"
            ]
          },
          "metadata": {
            "tags": []
          }
        }
      ]
    },
    {
      "cell_type": "markdown",
      "metadata": {
        "id": "EHJNo5wL8ki8",
        "colab_type": "text"
      },
      "source": [
        "# Ridge And Lasso :"
      ]
    },
    {
      "cell_type": "code",
      "metadata": {
        "id": "_ajBznAl3hXu",
        "colab_type": "code",
        "colab": {}
      },
      "source": [
        "from sklearn.linear_model import Lasso\n",
        "from sklearn.linear_model import Ridge"
      ],
      "execution_count": 61,
      "outputs": []
    },
    {
      "cell_type": "code",
      "metadata": {
        "id": "d3pdaI023kE-",
        "colab_type": "code",
        "colab": {
          "base_uri": "https://localhost:8080/",
          "height": 595
        },
        "outputId": "1f2a6bc8-329e-4d56-b6d2-32bef1243619"
      },
      "source": [
        "l2 = Ridge(10)\n",
        "l2.fit(X_train,y_train)\n",
        "l2.coef_"
      ],
      "execution_count": 66,
      "outputs": [
        {
          "output_type": "execute_result",
          "data": {
            "text/plain": [
              "array([ 0.00000000e+00, -1.86044593e+03,  2.48087325e+03,  1.46706529e+03,\n",
              "        1.14388758e+05,  4.28978676e+04, -1.60349953e+05, -2.14601766e+03,\n",
              "        3.69698050e+02, -2.61824260e+04, -2.03999689e+05,  9.01619789e+04,\n",
              "        1.01606788e+04,  1.89952486e+02, -5.57967851e+03, -5.09642656e+03,\n",
              "       -2.79269289e+04, -4.59674498e+04, -6.56793895e+03, -4.49373696e+01,\n",
              "       -3.25797757e+03,  2.18314505e+02,  3.76743721e+04, -1.93619979e+04,\n",
              "       -4.99932911e+01, -3.51840344e+02, -2.34863000e+02, -3.70959611e+03,\n",
              "        1.37671444e+03,  2.85900140e+02, -3.31517688e-02, -1.92055800e+03,\n",
              "       -8.88008114e+03, -1.10789607e+02,  1.24872793e+04, -3.98453436e+02,\n",
              "       -1.29673518e+04, -7.80743133e+03, -8.34764977e+01, -4.04875934e+01,\n",
              "        1.64513516e+03,  1.67972486e+03, -1.41480059e+04, -7.92418083e+03,\n",
              "       -4.93492388e-01, -2.38002119e+04, -7.86444093e+01, -1.52174596e+03,\n",
              "       -2.20237923e+01, -2.54610425e+03,  6.27268043e+03, -5.62114411e+00,\n",
              "        4.01541354e+01,  2.46980838e+02,  1.97800288e+02, -1.96691541e+03,\n",
              "       -1.09191327e+03,  2.35340193e-01, -5.90358401e+00,  1.62616887e+00,\n",
              "        6.34629736e-01, -2.01191245e+02, -5.70720516e+01,  3.95402104e-02,\n",
              "        1.63858927e+00,  2.32779311e+00,  5.91740031e+00, -8.22819891e+02,\n",
              "        5.29318204e+01,  1.71888130e-02,  1.20301501e+03, -9.51661688e+00,\n",
              "       -4.63831417e+03, -3.38052221e+03, -3.24258172e+00, -2.33385135e+02,\n",
              "        1.43953353e+02,  2.59293594e+02, -2.21421355e+03, -1.86657077e+03,\n",
              "        1.53437548e-02, -4.57827182e+00,  1.92124464e+02,  2.60103662e+02,\n",
              "        6.23536508e-02,  9.61560664e+00, -6.54095854e+00, -2.07615305e+01,\n",
              "        1.39161625e+03,  1.20987835e+02, -3.02737452e-02, -3.47672539e+04,\n",
              "       -2.64497380e+04, -5.21135293e+00,  6.83415237e+02, -7.58879007e+01,\n",
              "       -5.31134855e+02, -2.14027882e+03,  1.02815859e+04,  4.17198006e-02,\n",
              "       -5.78668684e+03,  3.71598012e+00,  6.77700215e+02, -4.38749468e+01,\n",
              "        1.37778192e+03, -4.80760825e+03,  1.11327973e+04,  2.27444549e+00,\n",
              "        1.30570424e-04,  1.65951896e+00, -2.07130596e+00, -1.58120346e+00,\n",
              "        2.08900499e+02,  5.37820847e+00, -7.73816815e-04, -1.19187407e+00,\n",
              "        5.85269911e+00,  6.66094963e+01,  1.13669453e+03,  1.89009863e+01,\n",
              "       -5.12236599e-02, -2.76272703e+00,  1.76864741e+01, -4.39606868e+02,\n",
              "        3.23382073e+01,  6.55640332e-02,  2.95158987e+02,  6.65672443e+01,\n",
              "       -8.81428509e+02, -7.21523041e-02, -1.03326209e+04, -3.25651616e+03,\n",
              "        3.50008220e+01,  8.72248035e+03,  1.06673587e+00, -8.61739831e-04])"
            ]
          },
          "metadata": {
            "tags": []
          },
          "execution_count": 66
        }
      ]
    },
    {
      "cell_type": "code",
      "metadata": {
        "id": "H_w4-Lr03vY1",
        "colab_type": "code",
        "colab": {
          "base_uri": "https://localhost:8080/",
          "height": 68
        },
        "outputId": "ac84b1fd-c1e3-4b68-b26f-6fae78ac0a90"
      },
      "source": [
        "# Lasso helps in feature selection\n",
        "l1 = Lasso(1000)\n",
        "l1.fit(X_train,y_train)\n",
        "l1.coef_"
      ],
      "execution_count": 104,
      "outputs": [
        {
          "output_type": "execute_result",
          "data": {
            "text/plain": [
              "array([ 0.00000000e+00,  2.88480504e+05, -0.00000000e+00,  2.10394370e+03,\n",
              "       -3.10968109e+04,  2.85473867e+04, -1.30871596e+02, -2.50584878e+04,\n",
              "        8.75150912e+02, -9.27280234e-01])"
            ]
          },
          "metadata": {
            "tags": []
          },
          "execution_count": 104
        }
      ]
    },
    {
      "cell_type": "code",
      "metadata": {
        "id": "B3iISp6o4ZKP",
        "colab_type": "code",
        "colab": {
          "base_uri": "https://localhost:8080/",
          "height": 1000
        },
        "outputId": "87e1bd78-852b-4eed-a7e8-74425fdac722"
      },
      "source": [
        "for i in range(100):\n",
        "    l2 = Ridge(alpha=i)\n",
        "    l2.fit(X_train,y_train)\n",
        "    print(i,\":\",l2.score(X_test,y_test))"
      ],
      "execution_count": 105,
      "outputs": [
        {
          "output_type": "stream",
          "text": [
            "0 : 0.3669791756268673\n",
            "1 : 0.3669638880652538\n",
            "2 : 0.36694831035745834\n",
            "3 : 0.3669324570550415\n",
            "4 : 0.36691634204294576\n",
            "5 : 0.3668999785766224\n",
            "6 : 0.3668833793163423\n",
            "7 : 0.36686655635921883\n",
            "8 : 0.36684952126911685\n",
            "9 : 0.3668322851046222\n",
            "10 : 0.36681485844521367\n",
            "11 : 0.36679725141577846\n",
            "12 : 0.36677947370959607\n",
            "13 : 0.3667615346099049\n",
            "14 : 0.3667434430101504\n",
            "15 : 0.3667252074330194\n",
            "16 : 0.3667068360483422\n",
            "17 : 0.3666883366899414\n",
            "18 : 0.3666697168715064\n",
            "19 : 0.36665098380155714\n",
            "20 : 0.36663214439755976\n",
            "21 : 0.3666132052992558\n",
            "22 : 0.3665941728812489\n",
            "23 : 0.3665750532649086\n",
            "24 : 0.36655585232962673\n",
            "25 : 0.36653657572347464\n",
            "26 : 0.3665172288732953\n",
            "27 : 0.36649781699427014\n",
            "28 : 0.36647834509898747\n",
            "29 : 0.3664588180060515\n",
            "30 : 0.3664392403482506\n",
            "31 : 0.3664196165803194\n",
            "32 : 0.3663999509863157\n",
            "33 : 0.36638024768663513\n",
            "34 : 0.3663605106446823\n",
            "35 : 0.366340743673225\n",
            "36 : 0.36632095044044244\n",
            "37 : 0.36630113447569057\n",
            "38 : 0.3662812991749943\n",
            "39 : 0.36626144780628855\n",
            "40 : 0.36624158351441793\n",
            "41 : 0.36622170932590725\n",
            "42 : 0.3662018281535202\n",
            "43 : 0.36618194280060967\n",
            "44 : 0.3661620559652814\n",
            "45 : 0.36614217024436846\n",
            "46 : 0.3661222881372381\n",
            "47 : 0.3661024120494297\n",
            "48 : 0.36608254429613984\n",
            "49 : 0.3660626871055579\n",
            "50 : 0.3660428426220612\n",
            "51 : 0.36602301290927775\n",
            "52 : 0.36600319995301783\n",
            "53 : 0.3659834056640916\n",
            "54 : 0.36596363188100345\n",
            "55 : 0.36594388037254405\n",
            "56 : 0.36592415284027247\n",
            "57 : 0.3659044509209032\n",
            "58 : 0.3658847761885947\n",
            "59 : 0.3658651301571513\n",
            "60 : 0.3658455142821332\n",
            "61 : 0.36582592996289287\n",
            "62 : 0.3658063785445227\n",
            "63 : 0.3657868613197348\n",
            "64 : 0.36576737953066774\n",
            "65 : 0.3657479343706216\n",
            "66 : 0.36572852698573066\n",
            "67 : 0.3657091584765736\n",
            "68 : 0.365689829899719\n",
            "69 : 0.36567054226922124\n",
            "70 : 0.3656512965580532\n",
            "71 : 0.3656320936994931\n",
            "72 : 0.36561293458845534\n",
            "73 : 0.3655938200827773\n",
            "74 : 0.36557475100445797\n",
            "75 : 0.3655557281408507\n",
            "76 : 0.36553675224581694\n",
            "77 : 0.36551782404083544\n",
            "78 : 0.365498944216075\n",
            "79 : 0.3654801134314264\n",
            "80 : 0.3654613323175029\n",
            "81 : 0.3654426014765999\n",
            "82 : 0.36542392148362723\n",
            "83 : 0.36540529288700574\n",
            "84 : 0.3653867162095328\n",
            "85 : 0.36536819194922066\n",
            "86 : 0.36534972058010506\n",
            "87 : 0.36533130255302476\n",
            "88 : 0.3653129382963787\n",
            "89 : 0.36529462821685277\n",
            "90 : 0.3652763727001266\n",
            "91 : 0.3652581721115544\n",
            "92 : 0.3652400267968231\n",
            "93 : 0.36522193708259054\n",
            "94 : 0.36520390327710095\n",
            "95 : 0.3651859256707794\n",
            "96 : 0.36516800453681086\n",
            "97 : 0.36515014013169445\n",
            "98 : 0.3651323326957854\n",
            "99 : 0.365114582453815\n"
          ],
          "name": "stdout"
        }
      ]
    },
    {
      "cell_type": "code",
      "metadata": {
        "id": "n4uxAtbb44F5",
        "colab_type": "code",
        "colab": {
          "base_uri": "https://localhost:8080/",
          "height": 289
        },
        "outputId": "9a1d73f5-21a5-453c-8edb-90c074b7e749"
      },
      "source": [
        "for i in range(200,1000,50):\n",
        "    l1 = Lasso(alpha=i)\n",
        "    l1.fit(X_train,y_train)\n",
        "    print(i,\":\",l1.score(X_test,y_test))"
      ],
      "execution_count": 106,
      "outputs": [
        {
          "output_type": "stream",
          "text": [
            "200 : 0.36705045470175923\n",
            "250 : 0.3670653877987528\n",
            "300 : 0.36707918337359524\n",
            "350 : 0.36709181650256884\n",
            "400 : 0.36710269366536563\n",
            "450 : 0.36710889543852965\n",
            "500 : 0.3671119754773392\n",
            "550 : 0.3671154038714809\n",
            "600 : 0.3671184785032655\n",
            "650 : 0.3671211799405536\n",
            "700 : 0.36712350790126114\n",
            "750 : 0.36712548850429694\n",
            "800 : 0.36712707238478925\n",
            "850 : 0.36712831064466445\n",
            "900 : 0.36712917830372815\n",
            "950 : 0.36712967585802303\n"
          ],
          "name": "stdout"
        }
      ]
    },
    {
      "cell_type": "code",
      "metadata": {
        "id": "FhGmSOUt5VcC",
        "colab_type": "code",
        "colab": {
          "base_uri": "https://localhost:8080/",
          "height": 34
        },
        "outputId": "caf23a9a-a5db-413f-efb3-9149010d50fd"
      },
      "source": [
        "# Final models\n",
        "l2 = Ridge(alpha=2)\n",
        "l2.fit(X_train,y_train)\n",
        "print(l2.score(X_test,y_test))"
      ],
      "execution_count": 107,
      "outputs": [
        {
          "output_type": "stream",
          "text": [
            "0.36694831035745834\n"
          ],
          "name": "stdout"
        }
      ]
    },
    {
      "cell_type": "code",
      "metadata": {
        "id": "mtqzx-MB5x-d",
        "colab_type": "code",
        "colab": {
          "base_uri": "https://localhost:8080/",
          "height": 68
        },
        "outputId": "a6c97c9d-34e7-498f-f417-f68a16d0d49c"
      },
      "source": [
        "l2.coef_"
      ],
      "execution_count": 108,
      "outputs": [
        {
          "output_type": "execute_result",
          "data": {
            "text/plain": [
              "array([ 0.00000000e+00,  3.15941989e+05, -2.65418687e+04,  2.03730984e+03,\n",
              "       -3.89470756e+04,  4.11950303e+04, -1.06602082e+02, -2.84589626e+04,\n",
              "        8.54241412e+02, -9.29178257e-01])"
            ]
          },
          "metadata": {
            "tags": []
          },
          "execution_count": 108
        }
      ]
    },
    {
      "cell_type": "code",
      "metadata": {
        "id": "jp0uAUnG8MMR",
        "colab_type": "code",
        "colab": {
          "base_uri": "https://localhost:8080/",
          "height": 34
        },
        "outputId": "65d616d0-1d6e-47c1-80ee-d87b573346d7"
      },
      "source": [
        "l1 = Lasso(alpha=200)\n",
        "l1.fit(X_train,y_train)\n",
        "print(l1.score(X_test,y_test))"
      ],
      "execution_count": 109,
      "outputs": [
        {
          "output_type": "stream",
          "text": [
            "0.36705045470175923\n"
          ],
          "name": "stdout"
        }
      ]
    },
    {
      "cell_type": "code",
      "metadata": {
        "id": "K8_iPZF98PuA",
        "colab_type": "code",
        "colab": {
          "base_uri": "https://localhost:8080/",
          "height": 68
        },
        "outputId": "061c57fa-124a-4983-c92f-ebbcaeb3f751"
      },
      "source": [
        "l1.coef_"
      ],
      "execution_count": 110,
      "outputs": [
        {
          "output_type": "execute_result",
          "data": {
            "text/plain": [
              "array([ 0.00000000e+00,  3.12280303e+05, -1.43998803e+04,  2.01883198e+03,\n",
              "       -3.73370402e+04,  3.69267371e+04, -1.05632775e+02, -2.80655160e+04,\n",
              "        8.63372989e+02, -9.30630626e-01])"
            ]
          },
          "metadata": {
            "tags": []
          },
          "execution_count": 110
        }
      ]
    },
    {
      "cell_type": "markdown",
      "metadata": {
        "id": "YwroBcvN9R23",
        "colab_type": "text"
      },
      "source": [
        "# Cross Validation :"
      ]
    },
    {
      "cell_type": "code",
      "metadata": {
        "id": "ZHh0AtFh9Yka",
        "colab_type": "code",
        "colab": {}
      },
      "source": [
        "from sklearn.model_selection import cross_val_score"
      ],
      "execution_count": 111,
      "outputs": []
    },
    {
      "cell_type": "code",
      "metadata": {
        "id": "1hLdBngc9beU",
        "colab_type": "code",
        "colab": {}
      },
      "source": [
        "l1_cross = cross_val_score(l1,X,y,cv=4)"
      ],
      "execution_count": 112,
      "outputs": []
    },
    {
      "cell_type": "code",
      "metadata": {
        "id": "HC6J0Zka9bxj",
        "colab_type": "code",
        "colab": {
          "base_uri": "https://localhost:8080/",
          "height": 34
        },
        "outputId": "86282229-fd1b-4f47-8195-b9ebe74b90b1"
      },
      "source": [
        "l1_cross"
      ],
      "execution_count": 114,
      "outputs": [
        {
          "output_type": "execute_result",
          "data": {
            "text/plain": [
              "array([0.38894093, 0.42255499, 0.34942492, 0.09208095])"
            ]
          },
          "metadata": {
            "tags": []
          },
          "execution_count": 114
        }
      ]
    },
    {
      "cell_type": "code",
      "metadata": {
        "id": "SOpfrIDN9cSp",
        "colab_type": "code",
        "colab": {}
      },
      "source": [
        "l2_cross = cross_val_score(l2,X,y,cv=4)"
      ],
      "execution_count": 115,
      "outputs": []
    },
    {
      "cell_type": "code",
      "metadata": {
        "id": "i5NAUvTL9n8v",
        "colab_type": "code",
        "colab": {
          "base_uri": "https://localhost:8080/",
          "height": 34
        },
        "outputId": "0fbddbc8-1a42-4fd9-f02a-4339b8dda43b"
      },
      "source": [
        "l2_cross"
      ],
      "execution_count": 116,
      "outputs": [
        {
          "output_type": "execute_result",
          "data": {
            "text/plain": [
              "array([0.38919251, 0.42256583, 0.34940623, 0.09192125])"
            ]
          },
          "metadata": {
            "tags": []
          },
          "execution_count": 116
        }
      ]
    },
    {
      "cell_type": "code",
      "metadata": {
        "id": "H8rGeCNK9sgE",
        "colab_type": "code",
        "colab": {
          "base_uri": "https://localhost:8080/",
          "height": 34
        },
        "outputId": "b7fb4e5b-64a6-403c-89de-278a665ffbcf"
      },
      "source": [
        "np.mean(l1_cross)\n"
      ],
      "execution_count": 117,
      "outputs": [
        {
          "output_type": "execute_result",
          "data": {
            "text/plain": [
              "0.3132504472167609"
            ]
          },
          "metadata": {
            "tags": []
          },
          "execution_count": 117
        }
      ]
    },
    {
      "cell_type": "code",
      "metadata": {
        "id": "M9UM_yio9vWr",
        "colab_type": "code",
        "colab": {
          "base_uri": "https://localhost:8080/",
          "height": 34
        },
        "outputId": "244507f0-ec37-49ec-f9e8-729fe11dd331"
      },
      "source": [
        "np.mean(l2_cross)"
      ],
      "execution_count": 118,
      "outputs": [
        {
          "output_type": "execute_result",
          "data": {
            "text/plain": [
              "0.31327145417293023"
            ]
          },
          "metadata": {
            "tags": []
          },
          "execution_count": 118
        }
      ]
    },
    {
      "cell_type": "markdown",
      "metadata": {
        "id": "iZkAArQz2Jmt",
        "colab_type": "text"
      },
      "source": [
        "# Polynomial Regression :"
      ]
    },
    {
      "cell_type": "code",
      "metadata": {
        "id": "qImGpy7u2Mam",
        "colab_type": "code",
        "colab": {}
      },
      "source": [
        "from sklearn.preprocessing import PolynomialFeatures"
      ],
      "execution_count": 53,
      "outputs": []
    },
    {
      "cell_type": "code",
      "metadata": {
        "id": "s6c-JIpP2Rhx",
        "colab_type": "code",
        "colab": {}
      },
      "source": [
        "X = df[[\"Rooms\",\"Bathroom\",\"BuildingArea\"]]\n",
        "y = df[\"Price\"]"
      ],
      "execution_count": 80,
      "outputs": []
    },
    {
      "cell_type": "code",
      "metadata": {
        "id": "FOTjF0XF2veM",
        "colab_type": "code",
        "colab": {}
      },
      "source": [
        "pf = PolynomialFeatures(2)"
      ],
      "execution_count": 81,
      "outputs": []
    },
    {
      "cell_type": "code",
      "metadata": {
        "id": "ZokGRFbk2xrP",
        "colab_type": "code",
        "colab": {}
      },
      "source": [
        "X_poly = pf.fit_transform(X)"
      ],
      "execution_count": 82,
      "outputs": []
    },
    {
      "cell_type": "code",
      "metadata": {
        "id": "9qGTDj76209w",
        "colab_type": "code",
        "colab": {}
      },
      "source": [
        "X_train, X_test, y_train, y_test = train_test_split(X_poly,y,random_state=1,test_size=0.3)"
      ],
      "execution_count": 83,
      "outputs": []
    },
    {
      "cell_type": "code",
      "metadata": {
        "id": "fnUVAL6M23M9",
        "colab_type": "code",
        "colab": {
          "base_uri": "https://localhost:8080/",
          "height": 34
        },
        "outputId": "53a6c6e0-ca7d-4cdf-fdc4-c02c9bd93e62"
      },
      "source": [
        "lr = LinearRegression()\n",
        "lr.fit(X_train,y_train)"
      ],
      "execution_count": 84,
      "outputs": [
        {
          "output_type": "execute_result",
          "data": {
            "text/plain": [
              "LinearRegression(copy_X=True, fit_intercept=True, n_jobs=None, normalize=False)"
            ]
          },
          "metadata": {
            "tags": []
          },
          "execution_count": 84
        }
      ]
    },
    {
      "cell_type": "code",
      "metadata": {
        "id": "ckhmz_0z27GU",
        "colab_type": "code",
        "colab": {}
      },
      "source": [
        "y_pred = lr.predict(X_test)"
      ],
      "execution_count": 85,
      "outputs": []
    },
    {
      "cell_type": "code",
      "metadata": {
        "id": "2O8uJduC3ATO",
        "colab_type": "code",
        "colab": {
          "base_uri": "https://localhost:8080/",
          "height": 34
        },
        "outputId": "693f2302-ad93-47fc-a5b6-2bea82d3b777"
      },
      "source": [
        "mean_squared_error(y_test,y_pred)"
      ],
      "execution_count": 86,
      "outputs": [
        {
          "output_type": "execute_result",
          "data": {
            "text/plain": [
              "329348377536.6401"
            ]
          },
          "metadata": {
            "tags": []
          },
          "execution_count": 86
        }
      ]
    },
    {
      "cell_type": "code",
      "metadata": {
        "id": "VutzSxhM3Fip",
        "colab_type": "code",
        "colab": {
          "base_uri": "https://localhost:8080/",
          "height": 34
        },
        "outputId": "212f9f13-1139-404a-e969-9773c2183d5a"
      },
      "source": [
        "r2_score(y_test,y_pred)"
      ],
      "execution_count": 87,
      "outputs": [
        {
          "output_type": "execute_result",
          "data": {
            "text/plain": [
              "0.3669791756269811"
            ]
          },
          "metadata": {
            "tags": []
          },
          "execution_count": 87
        }
      ]
    },
    {
      "cell_type": "code",
      "metadata": {
        "id": "52Psy9r57ZZO",
        "colab_type": "code",
        "colab": {}
      },
      "source": [
        "residuals = y_test - y_pred\n"
      ],
      "execution_count": 92,
      "outputs": []
    },
    {
      "cell_type": "code",
      "metadata": {
        "id": "y-eCq44W7qDK",
        "colab_type": "code",
        "colab": {
          "base_uri": "https://localhost:8080/",
          "height": 289
        },
        "outputId": "ea94c13b-5bf8-43b2-b32a-20e939827baf"
      },
      "source": [
        "plt.figure()\n",
        "sns.scatterplot(y_pred,residuals)\n",
        "plt.show()"
      ],
      "execution_count": 124,
      "outputs": [
        {
          "output_type": "display_data",
          "data": {
            "image/png": "[encoded data removed]",
            "text/plain": [
              "<Figure size 432x288 with 1 Axes>"
            ]
          },
          "metadata": {
            "tags": []
          }
        }
      ]
    },
    {
      "cell_type": "code",
      "metadata": {
        "id": "EjQgt3r1-_YM",
        "colab_type": "code",
        "colab": {
          "base_uri": "https://localhost:8080/",
          "height": 290
        },
        "outputId": "56bdd604-4c27-415a-d69e-f0483f0266c2"
      },
      "source": [
        "plt.figure()\n",
        "sns.distplot(residuals)\n",
        "plt.show()"
      ],
      "execution_count": 125,
      "outputs": [
        {
          "output_type": "display_data",
          "data": {
            "image/png": "[encoded data removed]",
            "text/plain": [
              "<Figure size 432x288 with 1 Axes>"
            ]
          },
          "metadata": {
            "tags": []
          }
        }
      ]
    }
  ]
}